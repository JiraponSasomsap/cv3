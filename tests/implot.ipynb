{
 "cells": [
  {
   "cell_type": "code",
   "execution_count": 1,
   "metadata": {},
   "outputs": [],
   "source": [
    "import sys\n",
    "sys.path.append('../..')\n",
    "\n",
    "import cv3\n",
    "import cv2"
   ]
  },
  {
   "cell_type": "code",
   "execution_count": 11,
   "metadata": {},
   "outputs": [
    {
     "data": {
      "text/plain": [
       "([], ['1'], [], [])"
      ]
     },
     "execution_count": 11,
     "metadata": {},
     "output_type": "execute_result"
    }
   ],
   "source": [
    "cv3.reset_all()\n",
    "'''--------------------------------------------------------------'''\n",
    "\n",
    "video_path = r'../assets/hello_opencv.mp4'\n",
    "cap=cv2.VideoCapture(video_path)\n",
    "\n",
    "while cap.isOpened():\n",
    "    ret, frame = cap.read()\n",
    "    if not ret:\n",
    "        break\n",
    "\n",
    "    imgs = [frame, frame, frame]\n",
    "    tags = ['frame1', 'frame2', 'frame3']\n",
    "    plot = cv3.implots(imgs=imgs, cal=2, row=2, tags=None)\n",
    "    cv3.imshow(plot, '1')\n",
    "    if cv3.interrupt(30): # close one time\n",
    "        break\n",
    "    \n",
    "cap.release()\n",
    "cv3.destroyAllWindows()\n",
    "cv3.WIND_DESTROYS, cv3.WIND_MOVED, cv3.WIND_NAMES, cv3.WIND_NAMES_BLOCKED"
   ]
  },
  {
   "cell_type": "code",
   "execution_count": null,
   "metadata": {},
   "outputs": [],
   "source": []
  }
 ],
 "metadata": {
  "kernelspec": {
   "display_name": "egat",
   "language": "python",
   "name": "python3"
  },
  "language_info": {
   "codemirror_mode": {
    "name": "ipython",
    "version": 3
   },
   "file_extension": ".py",
   "mimetype": "text/x-python",
   "name": "python",
   "nbconvert_exporter": "python",
   "pygments_lexer": "ipython3",
   "version": "3.12.9"
  }
 },
 "nbformat": 4,
 "nbformat_minor": 2
}
