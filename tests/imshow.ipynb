{
 "cells": [
  {
   "cell_type": "code",
   "execution_count": 1,
   "metadata": {},
   "outputs": [],
   "source": [
    "import sys\n",
    "sys.path.append('../..')\n",
    "\n",
    "import cv3\n",
    "import cv2"
   ]
  },
  {
   "cell_type": "markdown",
   "metadata": {},
   "source": [
    "Display image ✅"
   ]
  },
  {
   "cell_type": "code",
   "execution_count": null,
   "metadata": {},
   "outputs": [
    {
     "data": {
      "text/plain": [
       "([], ['1'], [])"
      ]
     },
     "execution_count": 10,
     "metadata": {},
     "output_type": "execute_result"
    }
   ],
   "source": [
    "cv3.reset_all()\n",
    "'''--------------------------------------------------------------'''\n",
    "\n",
    "image_path = r'../assets/hello_opencv.png'\n",
    "cv3.imshow(image=image_path, winname='1').interrupt(0)\n",
    "cv3.WIND_DESTROYS, cv3.WIND_MOVED, cv3.WIND_NAMES"
   ]
  },
  {
   "cell_type": "markdown",
   "metadata": {},
   "source": [
    "Display mutiple images (serial) ✅"
   ]
  },
  {
   "cell_type": "code",
   "execution_count": 7,
   "metadata": {},
   "outputs": [
    {
     "data": {
      "text/plain": [
       "([], ['1', '2', '3', '4'], [])"
      ]
     },
     "execution_count": 7,
     "metadata": {},
     "output_type": "execute_result"
    }
   ],
   "source": [
    "cv3.reset_all()\n",
    "'''--------------------------------------------------------------'''\n",
    "\n",
    "image_path = r'../assets/hello_opencv.png'\n",
    "cv3.imshow(image_path, '1').interrupt(0)\n",
    "cv3.imshow(image_path, '2').interrupt(0)\n",
    "cv3.imshow(image_path, '3').interrupt(0)\n",
    "cv3.imshow(image_path, '4').interrupt(0)\n",
    "cv3.WIND_DESTROYS,cv3.WIND_MOVED, cv3.WIND_NAMES"
   ]
  },
  {
   "cell_type": "markdown",
   "metadata": {},
   "source": [
    "Display mutiple images (parallel) ✅"
   ]
  },
  {
   "cell_type": "code",
   "execution_count": 8,
   "metadata": {},
   "outputs": [
    {
     "data": {
      "text/plain": [
       "([], ['1', '2', '3', '4'], [])"
      ]
     },
     "execution_count": 8,
     "metadata": {},
     "output_type": "execute_result"
    }
   ],
   "source": [
    "cv3.reset_all()\n",
    "'''--------------------------------------------------------------'''\n",
    "\n",
    "image_path = r'../assets/hello_opencv.png'\n",
    "cv3.imshow(image_path, '1')\n",
    "cv3.imshow(image_path, '2')\n",
    "cv3.imshow(image_path, '3')\n",
    "cv3.imshow(image_path, '4')\n",
    "cv3.interrupt(0)\n",
    "cv3.WIND_DESTROYS, cv3.WIND_MOVED, cv3.WIND_NAMES"
   ]
  },
  {
   "cell_type": "markdown",
   "metadata": {},
   "source": [
    "Display Video (single windows) ✅"
   ]
  },
  {
   "cell_type": "code",
   "execution_count": 10,
   "metadata": {},
   "outputs": [
    {
     "data": {
      "text/plain": [
       "([], ['1'], [])"
      ]
     },
     "execution_count": 10,
     "metadata": {},
     "output_type": "execute_result"
    }
   ],
   "source": [
    "cv3.reset_all()\n",
    "'''--------------------------------------------------------------'''\n",
    "\n",
    "video_path = r'../assets/hello_opencv.mp4'\n",
    "cap=cv2.VideoCapture(video_path)\n",
    "\n",
    "while cap.isOpened():\n",
    "    ret, frame = cap.read()\n",
    "    if not ret:\n",
    "        break\n",
    "\n",
    "    if cv3.imshow(frame, '1').interrupt(30):\n",
    "        break\n",
    "\n",
    "cap.release()\n",
    "cv3.destroyAllWindows()\n",
    "\n",
    "cv3.WIND_DESTROYS, cv3.WIND_MOVED, cv3.WIND_NAMES"
   ]
  },
  {
   "cell_type": "markdown",
   "metadata": {},
   "source": [
    "Display Video (multiple windows) -> one time closed ✅"
   ]
  },
  {
   "cell_type": "code",
   "execution_count": 8,
   "metadata": {},
   "outputs": [
    {
     "data": {
      "text/plain": [
       "([], ['1', '2', '3'], [], [])"
      ]
     },
     "execution_count": 8,
     "metadata": {},
     "output_type": "execute_result"
    }
   ],
   "source": [
    "cv3.reset_all()\n",
    "'''--------------------------------------------------------------'''\n",
    "\n",
    "video_path = r'../assets/hello_opencv.mp4'\n",
    "cap=cv2.VideoCapture(video_path)\n",
    "\n",
    "while cap.isOpened():\n",
    "    ret, frame = cap.read()\n",
    "    if not ret:\n",
    "        break\n",
    "\n",
    "    cv3.imshow(frame, '1')\n",
    "    cv3.imshow(frame, '2')\n",
    "    cv3.imshow(frame, '3')\n",
    "\n",
    "    if cv3.interrupt(30): # close one time\n",
    "        break\n",
    "    \n",
    "cap.release()\n",
    "cv3.destroyAllWindows()\n",
    "cv3.WIND_DESTROYS, cv3.WIND_MOVED, cv3.WIND_NAMES, cv3.WIND_NAMES_BLOCKED"
   ]
  },
  {
   "cell_type": "markdown",
   "metadata": {},
   "source": [
    "Display Video (multiple windows) -> select windows closed ✅"
   ]
  },
  {
   "cell_type": "code",
   "execution_count": null,
   "metadata": {},
   "outputs": [
    {
     "data": {
      "text/plain": [
       "([], ['1', '2', '3'], [], [])"
      ]
     },
     "execution_count": 6,
     "metadata": {},
     "output_type": "execute_result"
    }
   ],
   "source": [
    "cv3.reset_all()\n",
    "'''--------------------------------------------------------------'''\n",
    "\n",
    "video_path = r'../assets/hello_opencv.mp4'\n",
    "cap=cv2.VideoCapture(video_path)\n",
    "\n",
    "while cap.isOpened():\n",
    "    ret, frame = cap.read()\n",
    "    if not ret:\n",
    "        break\n",
    "\n",
    "    cv3.imshow(frame, '1')\n",
    "    cv3.imshow(frame, '2')\n",
    "    cv3.imshow(frame, '3')\n",
    "\n",
    "    if cv3.interrupts(30): # close on click\n",
    "        break\n",
    "    \n",
    "cap.release()\n",
    "cv3.destroyAllWindows()\n",
    "cv3.WIND_DESTROYS, cv3.WIND_MOVED, cv3.WIND_NAMES, cv3.WIND_NAMES_BLOCKED"
   ]
  },
  {
   "cell_type": "code",
   "execution_count": null,
   "metadata": {},
   "outputs": [],
   "source": []
  }
 ],
 "metadata": {
  "kernelspec": {
   "display_name": "py312",
   "language": "python",
   "name": "python3"
  },
  "language_info": {
   "codemirror_mode": {
    "name": "ipython",
    "version": 3
   },
   "file_extension": ".py",
   "mimetype": "text/x-python",
   "name": "python",
   "nbconvert_exporter": "python",
   "pygments_lexer": "ipython3",
   "version": "3.12.7"
  }
 },
 "nbformat": 4,
 "nbformat_minor": 2
}
